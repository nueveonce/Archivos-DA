{
  "nbformat": 4,
  "nbformat_minor": 0,
  "metadata": {
    "colab": {
      "provenance": [],
      "authorship_tag": "ABX9TyPH5NEweLahYSy2046Jg1U+",
      "include_colab_link": true
    },
    "kernelspec": {
      "name": "python3",
      "display_name": "Python 3"
    },
    "language_info": {
      "name": "python"
    }
  },
  "cells": [
    {
      "cell_type": "markdown",
      "metadata": {
        "id": "view-in-github",
        "colab_type": "text"
      },
      "source": [
        "<a href=\"https://colab.research.google.com/github/nueveonce/Archivos-DA/blob/main/Etapa3.ipynb\" target=\"_parent\"><img src=\"https://colab.research.google.com/assets/colab-badge.svg\" alt=\"Open In Colab\"/></a>"
      ]
    },
    {
      "cell_type": "markdown",
      "source": [],
      "metadata": {
        "id": "i6fjeppGDIvK"
      }
    },
    {
      "cell_type": "markdown",
      "source": [
        "# Proyecto"
      ],
      "metadata": {
        "id": "Zr_aV56nDKqf"
      }
    },
    {
      "cell_type": "markdown",
      "source": [
        "# Introduccion"
      ],
      "metadata": {
        "id": "GvrToB47DYGC"
      }
    },
    {
      "cell_type": "code",
      "source": [],
      "metadata": {
        "id": "HONhBjvIDaEP"
      },
      "execution_count": null,
      "outputs": []
    }
  ]
}